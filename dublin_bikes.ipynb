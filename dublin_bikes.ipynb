{
 "cells": [
  {
   "cell_type": "code",
   "execution_count": 2,
   "metadata": {
    "collapsed": true
   },
   "outputs": [],
   "source": [
    "import sched, time\n",
    "import requests\n",
    "import json\n",
    "\n",
    "from scipy import optimize\n",
    "import numpy as np\n",
    "import pandas as pd\n",
    "\n",
    "from sklearn.cluster import KMeans\n",
    "\n",
    "import matplotlib.pyplot as plt\n",
    "import seaborn as sns\n",
    "\n",
    "import gmplot"
   ]
  },
  {
   "cell_type": "markdown",
   "metadata": {},
   "source": [
    "# downloading the data"
   ]
  },
  {
   "cell_type": "markdown",
   "metadata": {},
   "source": [
    "Create class to dowload data from url, using an api key."
   ]
  },
  {
   "cell_type": "code",
   "execution_count": 16,
   "metadata": {
    "collapsed": true
   },
   "outputs": [],
   "source": [
    "class download_data(object):\n",
    "    \"\"\"\n",
    "    class to download data at periodic time intervals\n",
    "    \"\"\"\n",
    "    \n",
    "    data_list = []\n",
    "    \n",
    "    def __init__(self, url, api_key, delta_t=1800, total_t=1800):\n",
    "        \"\"\"\n",
    "        returns a download object whose attributes are the url of\n",
    "        the website, the api key to download the data, the periodicity\n",
    "        of the download cycle and the total time to perform this task for\n",
    "        \"\"\"\n",
    "        self.url = url\n",
    "        self.api_key = api_key\n",
    "        self.delta_t = delta_t\n",
    "        self.total_t = total_t\n",
    "        # initialize a list for downloaded data to be stored in\n",
    "        \n",
    "    def run(self):\n",
    "        \"\"\"\n",
    "        runs download task for specified time period and periodicity\n",
    "        from website with given api key\n",
    "        \"\"\"\n",
    "        \n",
    "        def download():\n",
    "            \"\"\"\n",
    "            function which downloads data from url, url, with api key, api_key\n",
    "            \"\"\"\n",
    "            # set the request parameters\n",
    "            my_url = self.url + '&apiKey=' + self.api_key\n",
    "            user = 'admin'\n",
    "            pwd = 'admin'\n",
    "\n",
    "            # set proper headers\n",
    "            headers = {\"Accept\":\"application/json\"}\n",
    " \n",
    "            # perform the HTTP request\n",
    "            response = requests.get(my_url, auth=(user, pwd), headers=headers)\n",
    " \n",
    "            # append downloaded json data to data_list\n",
    "            self.data_list.append(response.json())\n",
    "            \n",
    "        def comment():\n",
    "            \"\"\"\n",
    "            comment function\n",
    "            \"\"\"\n",
    "            print(time.monotonic(), 'step complete')\n",
    "            \n",
    "        def save_as_csv(filepath):\n",
    "            \"\"\"\n",
    "            saves data as csv file\n",
    "            \"\"\"\n",
    "        \n",
    "        # initialize scheduler\n",
    "        sch = sched.scheduler()\n",
    "        # truncate number of time intervals to integer\n",
    "        time_period = self.delta_t\n",
    "        no_time_intervals = int(self.total_t / self.delta_t) \n",
    "        # execute download at given time periods in total time\n",
    "        time_list = [t * time_period for t in range(no_time_intervals + 1)]\n",
    "        for time_stamp in time_list:\n",
    "            sch.enter(time_stamp, 1, comment)\n",
    "            sch.enter(time_stamp, 2, download)\n",
    "            \n",
    "        # run scheduled tasks\n",
    "        sch.run()"
   ]
  },
  {
   "cell_type": "markdown",
   "metadata": {},
   "source": [
    "Run the task."
   ]
  },
  {
   "cell_type": "code",
   "execution_count": 17,
   "metadata": {},
   "outputs": [
    {
     "name": "stdout",
     "output_type": "stream",
     "text": [
      "54201.5 step complete\n",
      "54801.5 step complete\n",
      "55401.5 step complete\n",
      "56001.5 step complete\n",
      "56601.5 step complete\n",
      "57201.5 step complete\n"
     ]
    }
   ],
   "source": [
    "dd = download_data('https://api.jcdecaux.com/vls/v1/stations?contract=Dublin', \n",
    "                     'd2aa5a02f507f8ed4aad52a78772c1496c7cb505', 60*10, 60*10*5)\n",
    "dd.run()"
   ]
  },
  {
   "cell_type": "markdown",
   "metadata": {},
   "source": [
    "Save the data."
   ]
  },
  {
   "cell_type": "code",
   "execution_count": 31,
   "metadata": {
    "collapsed": true
   },
   "outputs": [],
   "source": [
    "with open('data.json', 'w') as outfile:\n",
    "    json.dump(dd.data_list, outfile)"
   ]
  },
  {
   "cell_type": "markdown",
   "metadata": {},
   "source": [
    "# loading the data "
   ]
  },
  {
   "cell_type": "code",
   "execution_count": 32,
   "metadata": {
    "collapsed": true
   },
   "outputs": [],
   "source": [
    "with open('data.json', 'r') as infile:\n",
    "    data = json.load(infile)"
   ]
  },
  {
   "cell_type": "markdown",
   "metadata": {},
   "source": [
    "# displaying the data on a map"
   ]
  },
  {
   "cell_type": "code",
   "execution_count": 33,
   "metadata": {
    "collapsed": true
   },
   "outputs": [],
   "source": [
    "bike_list0, bike_list1 = [], []\n",
    "long_list, lat_list = [], []\n",
    "length = len(data[0])\n",
    "\n",
    "# define list of available bikes at each station\n",
    "for n in range(length):\n",
    "    bike_list0.append(data[0][n]['available_bikes'])\n",
    "    bike_list1.append(data[-1][n]['available_bikes'])\n",
    "    # define list of longitudes and latitudes of stations\n",
    "    long_list.append(data[0][n]['position']['lng'])\n",
    "    lat_list.append(data[0][n]['position']['lat'])"
   ]
  },
  {
   "cell_type": "markdown",
   "metadata": {},
   "source": [
    "### cluster stations"
   ]
  },
  {
   "cell_type": "markdown",
   "metadata": {},
   "source": [
    "We now cluster the stations. We do this to improve the running time of the algorithm, which is otherwise very computationally intensive."
   ]
  },
  {
   "cell_type": "markdown",
   "metadata": {},
   "source": [
    "Display geographical location of stations."
   ]
  },
  {
   "cell_type": "code",
   "execution_count": 158,
   "metadata": {},
   "outputs": [
    {
     "data": {
      "image/png": "[encoded data removed]",
      "text/plain": [
       "<matplotlib.figure.Figure at 0x1b0f8994eb8>"
      ]
     },
     "metadata": {},
     "output_type": "display_data"
    }
   ],
   "source": [
    "sns.set_style()\n",
    "plt.scatter(long_list, lat_list)\n",
    "plt.xlabel('Longitude')\n",
    "plt.ylabel('Latitude')\n",
    "plt.title('Geographical locations of Dublin Bikes stations')\n",
    "plt.show()"
   ]
  },
  {
   "cell_type": "markdown",
   "metadata": {},
   "source": [
    "We now use KMeans to group the stations according to their geographical location.\n",
    "\n",
    "We also produce a html output of the data displayed over Google maps below."
   ]
  },
  {
   "cell_type": "code",
   "execution_count": 157,
   "metadata": {
    "collapsed": true
   },
   "outputs": [],
   "source": [
    "# center plot\n",
    "gmap = gmplot.GoogleMapPlotter(53.345, -6.276, 14)\n",
    "# for some reason can't get scatter to work\n",
    "gmap.heatmap(lat_list, long_list)\n",
    "# draw map\n",
    "gmap.draw(\"dublin_bikes_map.html\")"
   ]
  },
  {
   "cell_type": "code",
   "execution_count": 159,
   "metadata": {},
   "outputs": [
    {
     "data": {
      "image/png": "[encoded data removed]",
      "text/plain": [
       "<matplotlib.figure.Figure at 0x1b0f89cd128>"
      ]
     },
     "metadata": {},
     "output_type": "display_data"
    }
   ],
   "source": [
    "# define an array of longitudes and latitudes\n",
    "X = np.array([x for x in zip(long_list, lat_list)])\n",
    "\n",
    "kmeans = KMeans(n_clusters=6, random_state=42).fit(X)\n",
    "\n",
    "# plot with labels\n",
    "cm = plt.cm.get_cmap('RdYlBu')\n",
    "plt.scatter(long_list, lat_list, c=kmeans.labels_, cmap=cm, edgecolors='black')\n",
    "plt.xlabel('Longitude')\n",
    "plt.ylabel('Latitude')\n",
    "plt.title('Geographical locations of Dublin Bikes stations (clustered)')\n",
    "plt.show()"
   ]
  },
  {
   "cell_type": "markdown",
   "metadata": {},
   "source": [
    "# analyzing the data"
   ]
  },
  {
   "cell_type": "markdown",
   "metadata": {},
   "source": [
    "## inferring routes via a loss function"
   ]
  },
  {
   "cell_type": "markdown",
   "metadata": {},
   "source": [
    "#### aggregate data"
   ]
  },
  {
   "cell_type": "markdown",
   "metadata": {},
   "source": [
    "We now aggregate the data according to the clustering."
   ]
  },
  {
   "cell_type": "code",
   "execution_count": 102,
   "metadata": {},
   "outputs": [
    {
     "data": {
      "text/html": [
       "<div>\n",
       "<table border=\"1\" class=\"dataframe\">\n",
       "  <thead>\n",
       "    <tr style=\"text-align: right;\">\n",
       "      <th></th>\n",
       "      <th>t0</th>\n",
       "      <th>t1</th>\n",
       "      <th>cluster</th>\n",
       "    </tr>\n",
       "  </thead>\n",
       "  <tbody>\n",
       "    <tr>\n",
       "      <th>0</th>\n",
       "      <td>27</td>\n",
       "      <td>18</td>\n",
       "      <td>0</td>\n",
       "    </tr>\n",
       "    <tr>\n",
       "      <th>1</th>\n",
       "      <td>3</td>\n",
       "      <td>4</td>\n",
       "      <td>2</td>\n",
       "    </tr>\n",
       "    <tr>\n",
       "      <th>2</th>\n",
       "      <td>2</td>\n",
       "      <td>0</td>\n",
       "      <td>5</td>\n",
       "    </tr>\n",
       "    <tr>\n",
       "      <th>3</th>\n",
       "      <td>1</td>\n",
       "      <td>0</td>\n",
       "      <td>1</td>\n",
       "    </tr>\n",
       "    <tr>\n",
       "      <th>4</th>\n",
       "      <td>0</td>\n",
       "      <td>0</td>\n",
       "      <td>5</td>\n",
       "    </tr>\n",
       "  </tbody>\n",
       "</table>\n",
       "</div>"
      ],
      "text/plain": [
       "   t0  t1  cluster\n",
       "0  27  18        0\n",
       "1   3   4        2\n",
       "2   2   0        5\n",
       "3   1   0        1\n",
       "4   0   0        5"
      ]
     },
     "execution_count": 102,
     "metadata": {},
     "output_type": "execute_result"
    }
   ],
   "source": [
    "bike_station_df = pd.DataFrame([x for x in zip(bike_list0, bike_list1, kmeans.labels_)])\n",
    "bike_station_df.columns = ['t0', 't1', 'cluster']\n",
    "bike_station_df.head()"
   ]
  },
  {
   "cell_type": "markdown",
   "metadata": {},
   "source": [
    "Aggregate."
   ]
  },
  {
   "cell_type": "code",
   "execution_count": 103,
   "metadata": {
    "collapsed": true
   },
   "outputs": [],
   "source": [
    "bike_cluster_df = bike_station_df.groupby('cluster').sum()"
   ]
  },
  {
   "cell_type": "code",
   "execution_count": 104,
   "metadata": {
    "collapsed": true
   },
   "outputs": [],
   "source": [
    "bike_cluster_df['pc_t0'] = bike_cluster_df.t0 / bike_cluster_df.t0.sum()\n",
    "bike_cluster_df['pc_t1'] = bike_cluster_df.t1 / bike_cluster_df.t1.sum()"
   ]
  },
  {
   "cell_type": "code",
   "execution_count": 105,
   "metadata": {},
   "outputs": [
    {
     "data": {
      "text/html": [
       "<div>\n",
       "<table border=\"1\" class=\"dataframe\">\n",
       "  <thead>\n",
       "    <tr style=\"text-align: right;\">\n",
       "      <th></th>\n",
       "      <th>t0</th>\n",
       "      <th>t1</th>\n",
       "      <th>pc_t0</th>\n",
       "      <th>pc_t1</th>\n",
       "    </tr>\n",
       "    <tr>\n",
       "      <th>cluster</th>\n",
       "      <th></th>\n",
       "      <th></th>\n",
       "      <th></th>\n",
       "      <th></th>\n",
       "    </tr>\n",
       "  </thead>\n",
       "  <tbody>\n",
       "    <tr>\n",
       "      <th>0</th>\n",
       "      <td>303</td>\n",
       "      <td>299</td>\n",
       "      <td>0.225446</td>\n",
       "      <td>0.221810</td>\n",
       "    </tr>\n",
       "    <tr>\n",
       "      <th>1</th>\n",
       "      <td>141</td>\n",
       "      <td>138</td>\n",
       "      <td>0.104911</td>\n",
       "      <td>0.102374</td>\n",
       "    </tr>\n",
       "    <tr>\n",
       "      <th>2</th>\n",
       "      <td>275</td>\n",
       "      <td>287</td>\n",
       "      <td>0.204613</td>\n",
       "      <td>0.212908</td>\n",
       "    </tr>\n",
       "    <tr>\n",
       "      <th>3</th>\n",
       "      <td>385</td>\n",
       "      <td>401</td>\n",
       "      <td>0.286458</td>\n",
       "      <td>0.297478</td>\n",
       "    </tr>\n",
       "    <tr>\n",
       "      <th>4</th>\n",
       "      <td>132</td>\n",
       "      <td>116</td>\n",
       "      <td>0.098214</td>\n",
       "      <td>0.086053</td>\n",
       "    </tr>\n",
       "    <tr>\n",
       "      <th>5</th>\n",
       "      <td>108</td>\n",
       "      <td>107</td>\n",
       "      <td>0.080357</td>\n",
       "      <td>0.079377</td>\n",
       "    </tr>\n",
       "  </tbody>\n",
       "</table>\n",
       "</div>"
      ],
      "text/plain": [
       "          t0   t1     pc_t0     pc_t1\n",
       "cluster                              \n",
       "0        303  299  0.225446  0.221810\n",
       "1        141  138  0.104911  0.102374\n",
       "2        275  287  0.204613  0.212908\n",
       "3        385  401  0.286458  0.297478\n",
       "4        132  116  0.098214  0.086053\n",
       "5        108  107  0.080357  0.079377"
      ]
     },
     "execution_count": 105,
     "metadata": {},
     "output_type": "execute_result"
    }
   ],
   "source": [
    "bike_cluster_df"
   ]
  },
  {
   "cell_type": "markdown",
   "metadata": {},
   "source": [
    "### initialize"
   ]
  },
  {
   "cell_type": "code",
   "execution_count": 106,
   "metadata": {
    "collapsed": true
   },
   "outputs": [],
   "source": [
    "# define initial and final vectors\n",
    "xf = bike_cluster_df.t1\n",
    "xi = bike_cluster_df.t0\n",
    "# store length of the (two) list(s)\n",
    "n = bike_cluster_df.shape[0]\n",
    "# initialize random probabilties\n",
    "p0 = np.random.rand(n, n)\n",
    "p0_rshp = p0.reshape(-1)"
   ]
  },
  {
   "cell_type": "code",
   "execution_count": 107,
   "metadata": {
    "collapsed": true
   },
   "outputs": [],
   "source": [
    "def loss_fxn(p_fi):\n",
    "    \"\"\"\n",
    "    gives loss function for given probability matrix,\n",
    "    initial and final vectors\n",
    "    \"\"\"\n",
    "    p_fi_reshaped = p_fi.reshape(n, n)\n",
    "    loss = np.sum((xf - np.dot(xi, p_fi_reshaped))**2)\n",
    "    return loss"
   ]
  },
  {
   "cell_type": "code",
   "execution_count": 108,
   "metadata": {
    "collapsed": true
   },
   "outputs": [],
   "source": [
    "def fun_constr0(p0_rshp_var):\n",
    "    p0_tmp = p0_rshp_var.reshape(n,n)\n",
    "    return np.linalg.norm(1 - np.sum(p0_tmp, axis=0))\n",
    "\n",
    "def fun_constr1(p0_rshp_var):\n",
    "    p0_tmp = p0_rshp_var.reshape(n,n)\n",
    "    return np.linalg.norm(1 - np.sum(p0_tmp, axis=1))\n",
    "\n",
    "def fun_constr2(p0_rshp_var):\n",
    "    p0_tmp = p0_rshp_var.reshape(n,n)\n",
    "    return np.linalg.norm(np.sum(p0_tmp, axis=0) - np.sum(p0_tmp, axis=1))"
   ]
  },
  {
   "cell_type": "markdown",
   "metadata": {},
   "source": [
    "Make symmetric"
   ]
  },
  {
   "cell_type": "code",
   "execution_count": 109,
   "metadata": {},
   "outputs": [
    {
     "name": "stdout",
     "output_type": "stream",
     "text": [
      "1608454.4905987834\n",
      "[ 0.99993849  0.99993173  0.99985769  1.0002304   0.99996801  1.00011541] [ 1.00000944  0.99999671  1.00000839  1.00004306  0.99999127  0.99999285]\n",
      "[[  7.14600000e-01   0.00000000e+00   2.85300000e-01   0.00000000e+00\n",
      "    0.00000000e+00   0.00000000e+00]\n",
      " [  0.00000000e+00   9.99700000e-01   0.00000000e+00   0.00000000e+00\n",
      "    1.00000000e-04   1.00000000e-04]\n",
      " [  2.85400000e-01   0.00000000e+00   7.14500000e-01   0.00000000e+00\n",
      "    0.00000000e+00   0.00000000e+00]\n",
      " [  1.00000000e-04   0.00000000e+00   2.00000000e-04   1.00000000e+00\n",
      "    0.00000000e+00   0.00000000e+00]\n",
      " [  0.00000000e+00   3.00000000e-04   0.00000000e+00   0.00000000e+00\n",
      "    6.87700000e-01   3.12000000e-01]\n",
      " [  0.00000000e+00   0.00000000e+00   0.00000000e+00   0.00000000e+00\n",
      "    3.12100000e-01   6.88000000e-01]]\n"
     ]
    }
   ],
   "source": [
    "# impose constraints on the probabilities\n",
    "cons = ({'type': 'eq', 'fun': fun_constr0}, {'type': 'eq', 'fun': fun_constr2})\n",
    "\n",
    "# test loss function\n",
    "print(loss_fxn(p0_rshp))\n",
    "\n",
    "# define bounds on each entry in the probability matrix\n",
    "bnd = (0, 1)\n",
    "bnd_array = tuple([bnd for n in range(n**2)])\n",
    "\n",
    "# minimize the loss function\n",
    "opt = optimize.minimize(loss_fxn, p0_rshp, method='SLSQP', bounds=bnd_array, constraints=cons)\n",
    "# reshape the data\n",
    "opt_rshp = opt.x.reshape(n, n)\n",
    "print(np.sum(opt_rshp, axis=1), np.sum(opt_rshp, axis=0)) \n",
    "print(opt_rshp.round(4))"
   ]
  },
  {
   "cell_type": "code",
   "execution_count": 110,
   "metadata": {},
   "outputs": [
    {
     "data": {
      "text/html": [
       "<div>\n",
       "<table border=\"1\" class=\"dataframe\">\n",
       "  <thead>\n",
       "    <tr style=\"text-align: right;\">\n",
       "      <th></th>\n",
       "      <th>0</th>\n",
       "      <th>1</th>\n",
       "      <th>2</th>\n",
       "      <th>3</th>\n",
       "      <th>4</th>\n",
       "      <th>5</th>\n",
       "    </tr>\n",
       "  </thead>\n",
       "  <tbody>\n",
       "    <tr>\n",
       "      <th>0</th>\n",
       "      <td>7.145701e-01</td>\n",
       "      <td>1.478643e-06</td>\n",
       "      <td>0.285319</td>\n",
       "      <td>4.682558e-05</td>\n",
       "      <td>4.710775e-07</td>\n",
       "      <td>2.348138e-07</td>\n",
       "    </tr>\n",
       "    <tr>\n",
       "      <th>1</th>\n",
       "      <td>5.386315e-06</td>\n",
       "      <td>9.997180e-01</td>\n",
       "      <td>0.000031</td>\n",
       "      <td>5.820985e-07</td>\n",
       "      <td>1.179929e-04</td>\n",
       "      <td>5.864629e-05</td>\n",
       "    </tr>\n",
       "    <tr>\n",
       "      <th>2</th>\n",
       "      <td>2.853628e-01</td>\n",
       "      <td>9.883156e-06</td>\n",
       "      <td>0.714482</td>\n",
       "      <td>2.321529e-06</td>\n",
       "      <td>1.707035e-07</td>\n",
       "      <td>1.110559e-07</td>\n",
       "    </tr>\n",
       "    <tr>\n",
       "      <th>3</th>\n",
       "      <td>6.774930e-05</td>\n",
       "      <td>5.771241e-07</td>\n",
       "      <td>0.000169</td>\n",
       "      <td>9.999924e-01</td>\n",
       "      <td>3.820861e-07</td>\n",
       "      <td>3.203704e-07</td>\n",
       "    </tr>\n",
       "    <tr>\n",
       "      <th>4</th>\n",
       "      <td>2.753882e-06</td>\n",
       "      <td>2.609855e-04</td>\n",
       "      <td>0.000005</td>\n",
       "      <td>4.156536e-07</td>\n",
       "      <td>6.877458e-01</td>\n",
       "      <td>3.119527e-01</td>\n",
       "    </tr>\n",
       "    <tr>\n",
       "      <th>5</th>\n",
       "      <td>6.424758e-07</td>\n",
       "      <td>5.741310e-06</td>\n",
       "      <td>0.000001</td>\n",
       "      <td>5.129711e-07</td>\n",
       "      <td>3.121264e-01</td>\n",
       "      <td>6.879808e-01</td>\n",
       "    </tr>\n",
       "  </tbody>\n",
       "</table>\n",
       "</div>"
      ],
      "text/plain": [
       "              0             1         2             3             4  \\\n",
       "0  7.145701e-01  1.478643e-06  0.285319  4.682558e-05  4.710775e-07   \n",
       "1  5.386315e-06  9.997180e-01  0.000031  5.820985e-07  1.179929e-04   \n",
       "2  2.853628e-01  9.883156e-06  0.714482  2.321529e-06  1.707035e-07   \n",
       "3  6.774930e-05  5.771241e-07  0.000169  9.999924e-01  3.820861e-07   \n",
       "4  2.753882e-06  2.609855e-04  0.000005  4.156536e-07  6.877458e-01   \n",
       "5  6.424758e-07  5.741310e-06  0.000001  5.129711e-07  3.121264e-01   \n",
       "\n",
       "              5  \n",
       "0  2.348138e-07  \n",
       "1  5.864629e-05  \n",
       "2  1.110559e-07  \n",
       "3  3.203704e-07  \n",
       "4  3.119527e-01  \n",
       "5  6.879808e-01  "
      ]
     },
     "execution_count": 110,
     "metadata": {},
     "output_type": "execute_result"
    }
   ],
   "source": [
    "pd.DataFrame(opt_rshp)"
   ]
  },
  {
   "cell_type": "code",
   "execution_count": 111,
   "metadata": {},
   "outputs": [],
   "source": [
    "final_df = pd.DataFrame((opt_rshp + opt_rshp.T) / 2)"
   ]
  },
  {
   "cell_type": "code",
   "execution_count": 114,
   "metadata": {},
   "outputs": [
    {
     "data": {
      "text/html": [
       "<div>\n",
       "<table border=\"1\" class=\"dataframe\">\n",
       "  <thead>\n",
       "    <tr style=\"text-align: right;\">\n",
       "      <th></th>\n",
       "      <th>0</th>\n",
       "      <th>1</th>\n",
       "      <th>2</th>\n",
       "      <th>3</th>\n",
       "      <th>4</th>\n",
       "      <th>5</th>\n",
       "    </tr>\n",
       "  </thead>\n",
       "  <tbody>\n",
       "    <tr>\n",
       "      <th>0</th>\n",
       "      <td>0.71</td>\n",
       "      <td>0.0</td>\n",
       "      <td>0.29</td>\n",
       "      <td>0.0</td>\n",
       "      <td>0.00</td>\n",
       "      <td>0.00</td>\n",
       "    </tr>\n",
       "    <tr>\n",
       "      <th>1</th>\n",
       "      <td>0.00</td>\n",
       "      <td>1.0</td>\n",
       "      <td>0.00</td>\n",
       "      <td>0.0</td>\n",
       "      <td>0.00</td>\n",
       "      <td>0.00</td>\n",
       "    </tr>\n",
       "    <tr>\n",
       "      <th>2</th>\n",
       "      <td>0.29</td>\n",
       "      <td>0.0</td>\n",
       "      <td>0.71</td>\n",
       "      <td>0.0</td>\n",
       "      <td>0.00</td>\n",
       "      <td>0.00</td>\n",
       "    </tr>\n",
       "    <tr>\n",
       "      <th>3</th>\n",
       "      <td>0.00</td>\n",
       "      <td>0.0</td>\n",
       "      <td>0.00</td>\n",
       "      <td>1.0</td>\n",
       "      <td>0.00</td>\n",
       "      <td>0.00</td>\n",
       "    </tr>\n",
       "    <tr>\n",
       "      <th>4</th>\n",
       "      <td>0.00</td>\n",
       "      <td>0.0</td>\n",
       "      <td>0.00</td>\n",
       "      <td>0.0</td>\n",
       "      <td>0.69</td>\n",
       "      <td>0.31</td>\n",
       "    </tr>\n",
       "    <tr>\n",
       "      <th>5</th>\n",
       "      <td>0.00</td>\n",
       "      <td>0.0</td>\n",
       "      <td>0.00</td>\n",
       "      <td>0.0</td>\n",
       "      <td>0.31</td>\n",
       "      <td>0.69</td>\n",
       "    </tr>\n",
       "  </tbody>\n",
       "</table>\n",
       "</div>"
      ],
      "text/plain": [
       "      0    1     2    3     4     5\n",
       "0  0.71  0.0  0.29  0.0  0.00  0.00\n",
       "1  0.00  1.0  0.00  0.0  0.00  0.00\n",
       "2  0.29  0.0  0.71  0.0  0.00  0.00\n",
       "3  0.00  0.0  0.00  1.0  0.00  0.00\n",
       "4  0.00  0.0  0.00  0.0  0.69  0.31\n",
       "5  0.00  0.0  0.00  0.0  0.31  0.69"
      ]
     },
     "execution_count": 114,
     "metadata": {},
     "output_type": "execute_result"
    }
   ],
   "source": [
    "final_df.round(2)"
   ]
  },
  {
   "cell_type": "code",
   "execution_count": 113,
   "metadata": {},
   "outputs": [
    {
     "name": "stdout",
     "output_type": "stream",
     "text": [
      "0    0.999974\n",
      "1    0.999964\n",
      "2    0.999933\n",
      "3    1.000137\n",
      "4    0.999980\n",
      "5    1.000054\n",
      "dtype: float64\n",
      "\n",
      "0    0.999974\n",
      "1    0.999964\n",
      "2    0.999933\n",
      "3    1.000137\n",
      "4    0.999980\n",
      "5    1.000054\n",
      "dtype: float64\n"
     ]
    }
   ],
   "source": [
    "print(np.sum(final_df, axis=1))\n",
    "print('')\n",
    "print(np.sum(final_df, axis=0))"
   ]
  },
  {
   "cell_type": "markdown",
   "metadata": {},
   "source": [
    "# what I want to do\n",
    "\n",
    "* put stations on a map\n",
    "* regularly pull data\n",
    "* perform time series analysis\n",
    "* loss function\n",
    "* comparitive study\n",
    "* most frequent route"
   ]
  },
  {
   "cell_type": "code",
   "execution_count": null,
   "metadata": {
    "collapsed": true
   },
   "outputs": [],
   "source": []
  }
 ],
 "metadata": {
  "kernelspec": {
   "display_name": "Python 3",
   "language": "python",
   "name": "python3"
  },
  "language_info": {
   "codemirror_mode": {
    "name": "ipython",
    "version": 3
   },
   "file_extension": ".py",
   "mimetype": "text/x-python",
   "name": "python",
   "nbconvert_exporter": "python",
   "pygments_lexer": "ipython3",
   "version": "3.6.0"
  }
 },
 "nbformat": 4,
 "nbformat_minor": 2
}
